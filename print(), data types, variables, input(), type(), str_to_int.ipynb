{
  "nbformat": 4,
  "nbformat_minor": 0,
  "metadata": {
    "colab": {
      "provenance": [],
      "authorship_tag": "ABX9TyOYSBocFYwfjSYIhSyvnZ0l",
      "include_colab_link": true
    },
    "kernelspec": {
      "name": "python3",
      "display_name": "Python 3"
    },
    "language_info": {
      "name": "python"
    }
  },
  "cells": [
    {
      "cell_type": "markdown",
      "metadata": {
        "id": "view-in-github",
        "colab_type": "text"
      },
      "source": [
        "<a href=\"https://colab.research.google.com/github/anilaktekin/python-course-curriculums/blob/main/print()%2C%20data%20types%2C%20variables%2C%20input()%2C%20type()%2C%20str_to_int.ipynb\" target=\"_parent\"><img src=\"https://colab.research.google.com/assets/colab-badge.svg\" alt=\"Open In Colab\"/></a>"
      ]
    },
    {
      "cell_type": "code",
      "execution_count": null,
      "metadata": {
        "id": "pF_IHx7PLX13"
      },
      "outputs": [],
      "source": [
        "# bu işaret sayesinde yazdıklarımız kod olarak algılanmaz, not yazmış oluruz."
      ]
    },
    {
      "cell_type": "markdown",
      "source": [
        "print() komutu"
      ],
      "metadata": {
        "id": "5bndDh0BMJt3"
      }
    },
    {
      "cell_type": "code",
      "source": [
        "# print komutu bizim parantez içerisinde yazdıklarımızın çıktısını almamızı sağlar.\n",
        "\n",
        "print(\"Anıl\")\n",
        "print(6)\n",
        "print(23 + 55)"
      ],
      "metadata": {
        "colab": {
          "base_uri": "https://localhost:8080/"
        },
        "id": "RvECF-dNMMYJ",
        "outputId": "1a020275-69b8-465e-e7ac-877ab0aa56fb"
      },
      "execution_count": null,
      "outputs": [
        {
          "output_type": "stream",
          "name": "stdout",
          "text": [
            "Anıl\n",
            "6\n",
            "78\n"
          ]
        }
      ]
    },
    {
      "cell_type": "markdown",
      "source": [
        "VERİ TİPLERİ"
      ],
      "metadata": {
        "id": "UtuluRlmMRne"
      }
    },
    {
      "cell_type": "code",
      "source": [
        "# String(str) -- Yazısal Veri Tipi"
      ],
      "metadata": {
        "id": "DiheBaFAMUW_"
      },
      "execution_count": null,
      "outputs": []
    },
    {
      "cell_type": "code",
      "source": [
        "# 1 - String, harflerden oluşan her şeye verilen isimdir.\n",
        "\n",
        "# 2 - Bütün stringler yani bütün yazılar her zaman çift tırnak içerisinde yazılırlar.\n",
        "\n",
        "# 3 - Çift tırnak içerisine yazılan her şey, String olarak geçer. İster sayı ister işlem olsun hiç fark etmez.\n",
        "print(\"23 + 5\")\n",
        "\n",
        "# 4 - Çift tırnak içerisinde ne yazıyorsa, çıktı olarak da aynısı çıkar\n",
        "print(\"55+44ısnmaofnbmlfnb0000\")"
      ],
      "metadata": {
        "colab": {
          "base_uri": "https://localhost:8080/"
        },
        "id": "PTV-_NvBMXd0",
        "outputId": "75a957f8-35c0-4e69-d80c-fce382f511a7"
      },
      "execution_count": null,
      "outputs": [
        {
          "output_type": "stream",
          "name": "stdout",
          "text": [
            "23 + 5\n",
            "55+44ısnmaofnbmlfnb0000\n"
          ]
        }
      ]
    },
    {
      "cell_type": "code",
      "source": [
        "# Integer(int) -- Sayısal Veri Tipi"
      ],
      "metadata": {
        "id": "JiYzxDWwM4HP"
      },
      "execution_count": null,
      "outputs": []
    },
    {
      "cell_type": "code",
      "source": [
        "# 1 - Sayılardan oluşan her şey bilgisayarın gözünde Integer olarak geçer\n",
        "# 2 - Bahsettiğimiz bu Integerları yazarken herhangi bir işaret içerisine almanıza gerek yoktur. Direkt olarak yazabilirsiniz.\n",
        "# 3 - Integerları çift tırnak içerisinde yazarsanız onlar artık String olur.\n",
        "\n",
        "print(6)\n",
        "print(23 + 55)"
      ],
      "metadata": {
        "colab": {
          "base_uri": "https://localhost:8080/"
        },
        "id": "suqiKsdoM5aA",
        "outputId": "000a69ac-6e38-41c1-953b-af56d1d69dc3"
      },
      "execution_count": null,
      "outputs": [
        {
          "output_type": "stream",
          "name": "stdout",
          "text": [
            "6\n",
            "78\n"
          ]
        }
      ]
    },
    {
      "cell_type": "markdown",
      "source": [
        "Veri Tipleri Arası İşlemler"
      ],
      "metadata": {
        "id": "tYGioaqnPV1x"
      }
    },
    {
      "cell_type": "code",
      "source": [
        "# string + string\n",
        "isim = \"Anıl\"\n",
        "soyisim = \"Aktekin\"\n",
        "\n",
        "print(isim + soyisim)"
      ],
      "metadata": {
        "colab": {
          "base_uri": "https://localhost:8080/"
        },
        "id": "UEoyfesIPZ9T",
        "outputId": "85ad1d06-eb08-49eb-bfec-24bacbaba43b"
      },
      "execution_count": null,
      "outputs": [
        {
          "output_type": "stream",
          "name": "stdout",
          "text": [
            "AnılAktekin\n"
          ]
        }
      ]
    },
    {
      "cell_type": "code",
      "source": [
        "# string * integer\n",
        "isim = \"Anıl Aktekin\"\n",
        "sayi = 10\n",
        "\n",
        "print(isim * sayi)"
      ],
      "metadata": {
        "colab": {
          "base_uri": "https://localhost:8080/"
        },
        "id": "WVj3-MnnPd2v",
        "outputId": "1e3bef77-0a6a-46d4-af3b-a0f971266630"
      },
      "execution_count": null,
      "outputs": [
        {
          "output_type": "stream",
          "name": "stdout",
          "text": [
            "Anıl AktekinAnıl AktekinAnıl AktekinAnıl AktekinAnıl AktekinAnıl AktekinAnıl AktekinAnıl AktekinAnıl AktekinAnıl Aktekin\n"
          ]
        }
      ]
    },
    {
      "cell_type": "markdown",
      "source": [
        "DEĞİŞKENLER"
      ],
      "metadata": {
        "id": "34r3wH2MNZab"
      }
    },
    {
      "cell_type": "code",
      "source": [
        "# Değişkenler, bilgisayara istediğimiz herhangi bir şeyi kaydetmemizi sağlar.\n",
        "\n",
        "# Değişkenlerin temel bir iskeleti vardır. Bu iskelet şu şekildedir :\n",
        "#              \"Değişkenİsmi + = + DeğişkeneAtananDeğer\""
      ],
      "metadata": {
        "id": "jKUSg-HjNa49"
      },
      "execution_count": null,
      "outputs": []
    },
    {
      "cell_type": "code",
      "source": [
        "#Değişkenİsmi Nedir ?\n",
        "\n",
        "# Değişken ismi, bilgisayara kaydettiğimiz şeye verdiğimiz isimdir. Yani kaydettiğin şeyi bilgisayara o isimle kaydetmiş olursun."
      ],
      "metadata": {
        "id": "qV9fEm6ANpFa"
      },
      "execution_count": null,
      "outputs": []
    },
    {
      "cell_type": "code",
      "source": [
        "# Değişkenİsmi Kuralları :\n",
        "\n",
        "# 1 - Değişken isimlerinde Türkçe karakterler olamaz. (ğ,ü,ş,ç,ö,ı,İ)\n",
        "\n",
        "  # 2 - Değişken isimleri sayı ile başlayamaz.\n",
        "# 2yigit - olamaz / yigit2 - olabilir\n",
        "\n",
        "  # 3 - Kelimelerden oluşan bir isim koyuyorsan, kelimeler arasında boşluk bırakamazsın.\n",
        "#(yigitin yasi olamaz, yigitinYasi veya yigitin_yasi olabilir)\n",
        "\n",
        "  # 4 - Python programlama dili büyük küçük harfe duyarlıdır. Yani yiğit kelimesi ile Yiğit kelimesi birbirinden farklı iki değişkendir.\n"
      ],
      "metadata": {
        "id": "cmMaVuloNrdL"
      },
      "execution_count": null,
      "outputs": []
    },
    {
      "cell_type": "code",
      "source": [
        "# DeğişkeneAtananDeğer :\n",
        "\n",
        "  # Değişkene atanan değer, bilgisayara kaydettiğimiz şeydir.\n",
        "  # Kaydettiğimiz şeyler genel olarak ya String ya da Integer olur. Bu sebeple ayrı kuralları yoktur."
      ],
      "metadata": {
        "id": "Gio4-swpNtPw"
      },
      "execution_count": null,
      "outputs": []
    },
    {
      "cell_type": "code",
      "source": [
        "isim = \"Anıl Aktekin\"\n",
        "yas = 23\n",
        "yasadigim_yer = \"İzmir\"\n",
        "favori_futbol_takimi = \"Beşiktaş\"\n",
        "\n",
        "print(isim)\n",
        "print(yas)\n",
        "print(yasadigim_yer)\n",
        "print(favori_futbol_takimi)"
      ],
      "metadata": {
        "colab": {
          "base_uri": "https://localhost:8080/"
        },
        "id": "K9Gj3V_SNwSS",
        "outputId": "910cf77f-080c-4f85-8f5a-848750982cd9"
      },
      "execution_count": null,
      "outputs": [
        {
          "output_type": "stream",
          "name": "stdout",
          "text": [
            "Anıl Aktekin\n",
            "23\n",
            "İzmir\n",
            "Beşiktaş\n"
          ]
        }
      ]
    },
    {
      "cell_type": "code",
      "source": [
        "# Dikdörtgen Alanı : UzunKenar * KısaKenar"
      ],
      "metadata": {
        "id": "O3XcOI_KOGPl"
      },
      "execution_count": null,
      "outputs": []
    },
    {
      "cell_type": "code",
      "source": [
        "uzun_kenar = 120\n",
        "kisa_kenar = 40\n",
        "\n",
        "alan = uzun_kenar * kisa_kenar\n",
        "print(alan)"
      ],
      "metadata": {
        "colab": {
          "base_uri": "https://localhost:8080/"
        },
        "id": "v56Z3zRNNzlS",
        "outputId": "08b83ff6-707c-4b8f-af39-acf54f5554ca"
      },
      "execution_count": null,
      "outputs": [
        {
          "output_type": "stream",
          "name": "stdout",
          "text": [
            "4800\n"
          ]
        }
      ]
    },
    {
      "cell_type": "code",
      "source": [
        "isim = \"Anıl\"\n",
        "soyisim = \"Aktekin\"\n",
        "yas = 23\n",
        "yasadigim_yer = \"İzmir\"\n",
        "hobim = \"Uyumak\"\n",
        "\n",
        "print(\"Merhaba, benim adım\",isim,soyisim,\".Ben\",yasadigim_yer,\"şehrinde yaşıyorum.\")"
      ],
      "metadata": {
        "id": "1D9pZ0eAOA7K"
      },
      "execution_count": null,
      "outputs": []
    },
    {
      "cell_type": "markdown",
      "source": [
        "input() komutu"
      ],
      "metadata": {
        "id": "_JX6SkO9OVtS"
      }
    },
    {
      "cell_type": "code",
      "source": [
        "# input() komutu sayesinde kullanıcılara soru sorabilir ve onlardan cevap alabiliriz.\n",
        "# Değişkenİsmi = input(\"Bu parantezin içerisine sorunuzu soruyorsunuz\")\n",
        "\n",
        "isim = input() # parantez boş olduğu için soru olmayacak\n",
        "print(isim)\n",
        "\n",
        "isim = input(\"İsminiz nedir ?\")\n",
        "print(isim)"
      ],
      "metadata": {
        "colab": {
          "base_uri": "https://localhost:8080/"
        },
        "id": "5Im-Nb6rOWYa",
        "outputId": "5ab30444-71ba-4f54-8852-5c3bd2cc8124"
      },
      "execution_count": null,
      "outputs": [
        {
          "output_type": "stream",
          "name": "stdout",
          "text": [
            "Anıl\n",
            "Anıl\n",
            "İsminiz nedir ?Aktekin\n",
            "Aktekin\n"
          ]
        }
      ]
    },
    {
      "cell_type": "code",
      "source": [
        "isim = input(\"İsminiz nedir ?\")\n",
        "soyisim = input(\"Soy isminiz nedir ?\")\n",
        "yas = input(\"Kaç yaşındasınız ?\")\n",
        "sehir = input(\"Nerede yaşıyorsunuz ?\")\n",
        "\n",
        "print(\"Merhaba, benim adım\",isim,soyisim,\".Ben\",yas,\"yaşındayım. Ben\",sehir,\"şehrinde yaşıyorum.\")"
      ],
      "metadata": {
        "colab": {
          "base_uri": "https://localhost:8080/"
        },
        "id": "4fCWnMH2OvRO",
        "outputId": "6a52f535-1ae7-468f-ba8e-9c7d0f84ed33"
      },
      "execution_count": null,
      "outputs": [
        {
          "output_type": "stream",
          "name": "stdout",
          "text": [
            "İsminiz nedir ?Anıl\n",
            "Soy isminiz nedir ?Aktekin\n",
            "Kaç yaşındasınız ?23\n",
            "Nerede yaşıyorsunuz ?İzmir\n",
            "Merhaba, benim adım Anıl Aktekin .Ben 23 yaşındayım. Ben İzmir şehrinde yaşıyorum.\n"
          ]
        }
      ]
    },
    {
      "cell_type": "code",
      "source": [
        "sayi1 = input(\"Lütfen bir sayı giriniz : \")\n",
        "sayi2 = input(\"Lütfen bir sayı giriniz : \")\n",
        "print(sayi1 + sayi2)\n",
        "\n",
        "# input'u oluştururken eğer en başta sayı istediğinizi belirtmezseniz, gelen her cevap string olarak kabul edilir.\n",
        "\n",
        "sayi1 = int(input(\"Lütfen bir sayı giriniz : \"))\n",
        "sayi2 = int(input(\"Lütfen bir sayı giriniz : \"))\n",
        "print(sayi1 + sayi2)"
      ],
      "metadata": {
        "colab": {
          "base_uri": "https://localhost:8080/"
        },
        "id": "il2qsSinO4kC",
        "outputId": "19acff88-e3bd-4c0c-b816-b77ea537e111"
      },
      "execution_count": null,
      "outputs": [
        {
          "output_type": "stream",
          "name": "stdout",
          "text": [
            "Lütfen bir sayı giriniz : 20\n",
            "Lütfen bir sayı giriniz : 24\n",
            "2024\n",
            "Lütfen bir sayı giriniz : 20\n",
            "Lütfen bir sayı giriniz : 24\n",
            "44\n"
          ]
        }
      ]
    },
    {
      "cell_type": "code",
      "source": [
        "uzunKenar = input(\"Dikdörtgenin uzun kenarı kaç cm'dir\")\n",
        "kisaKenar = input(\"Dikdörtgenin kısa kenarı kaç cm'dir\")\n",
        "\n",
        "alan = uzunKenar + kisaKenar\n",
        "\n",
        "print(alan)\n",
        "\n",
        "#########################################################################################################\n",
        "\n",
        "uzunKenar = int(input(\"Dikdörtgenin uzun kenarı kaç cm'dir? \"))\n",
        "kisaKenar = int(input(\"Dikdörtgenin kısa kenarı kaç cm'dir? \"))\n",
        "alan = uzunKenar * kisaKenar\n",
        "print(alan)"
      ],
      "metadata": {
        "colab": {
          "base_uri": "https://localhost:8080/"
        },
        "id": "91d6Qi7aPjJY",
        "outputId": "df0b7d64-29a1-48b5-c185-0009f5dbbb9c"
      },
      "execution_count": null,
      "outputs": [
        {
          "output_type": "stream",
          "name": "stdout",
          "text": [
            "Dikdörtgenin uzun kenarı kaç cm'dir120\n",
            "Dikdörtgenin kısa kenarı kaç cm'dir40\n",
            "12040\n",
            "Dikdörtgenin uzun kenarı kaç cm'dir? 120\n",
            "Dikdörtgenin kısa kenarı kaç cm'dir? 40\n",
            "4800\n"
          ]
        }
      ]
    },
    {
      "cell_type": "markdown",
      "source": [
        "type() komutu ile veri tipi öğrenme"
      ],
      "metadata": {
        "id": "q4EvjrC-PxYn"
      }
    },
    {
      "cell_type": "code",
      "source": [
        "# print(type(veri türünü öğrenmek istediğin değişken))\n",
        "\n",
        "isim = \"Anıl\"\n",
        "print(type(isim))\n",
        "\n",
        "print(type(12.5))\n",
        "\n",
        "print(type(35.5 + 3))"
      ],
      "metadata": {
        "colab": {
          "base_uri": "https://localhost:8080/"
        },
        "id": "BduBYLLOPxqv",
        "outputId": "5da4efa3-c3c5-44e4-97d7-a57b0ee0bcea"
      },
      "execution_count": null,
      "outputs": [
        {
          "output_type": "stream",
          "name": "stdout",
          "text": [
            "<class 'str'>\n",
            "<class 'float'>\n",
            "<class 'float'>\n"
          ]
        }
      ]
    },
    {
      "cell_type": "code",
      "source": [
        "sayi1 = input(\"Bir sayı giriniz : \")\n",
        "sayi2 = input(\"Bir sayı giriniz : \")\n",
        "print(type(sayi1))\n",
        "print(type(sayi2))\n",
        "print(sayi1 + sayi2)"
      ],
      "metadata": {
        "colab": {
          "base_uri": "https://localhost:8080/"
        },
        "id": "rXnvK32CP2ko",
        "outputId": "164afc1f-3f93-4424-dc80-3c7a4259921a"
      },
      "execution_count": null,
      "outputs": [
        {
          "output_type": "stream",
          "name": "stdout",
          "text": [
            "Bir sayı giriniz : 20\n",
            "Bir sayı giriniz : 33\n",
            "<class 'str'>\n",
            "<class 'str'>\n",
            "2033\n"
          ]
        }
      ]
    },
    {
      "cell_type": "markdown",
      "source": [
        "str to int | int to str"
      ],
      "metadata": {
        "id": "rsKEnIc6P7WX"
      }
    },
    {
      "cell_type": "code",
      "source": [
        "sayi = \"20\"\n",
        "print(type(sayi))\n",
        "\n",
        "# dönüştürülmüşHaliniKaydedecekYeniBirDeğişken = dönüştürülecekVeriTürü(dönüştürülecekDeğişkenİsmi)\n",
        "\n",
        "sayi_yeni = int(sayi)\n",
        "print(type(sayi_yeni))"
      ],
      "metadata": {
        "colab": {
          "base_uri": "https://localhost:8080/"
        },
        "id": "QB7XBzQcP-2n",
        "outputId": "0aeceb50-73a9-4118-9b6a-adbb032ba009"
      },
      "execution_count": null,
      "outputs": [
        {
          "output_type": "stream",
          "name": "stdout",
          "text": [
            "<class 'str'>\n",
            "<class 'int'>\n"
          ]
        }
      ]
    },
    {
      "cell_type": "code",
      "source": [
        "sayi_str = \"10\"\n",
        "sayi2_str = \"20\"\n",
        "print(type(sayi_str))\n",
        "print(type(sayi2_str))\n",
        "\n",
        "\n",
        "sayi_int = int(sayi_str)\n",
        "sayi2_int = int(sayi2_str)\n",
        "print(type(sayi_int))\n",
        "print(type(sayi2_int))\n",
        "print(sayi2_int * sayi_int)"
      ],
      "metadata": {
        "colab": {
          "base_uri": "https://localhost:8080/"
        },
        "id": "DIAdfTLfQK8U",
        "outputId": "74107ef3-ab98-428f-b225-c100f6070de5"
      },
      "execution_count": null,
      "outputs": [
        {
          "output_type": "stream",
          "name": "stdout",
          "text": [
            "<class 'str'>\n",
            "<class 'str'>\n",
            "<class 'int'>\n",
            "<class 'int'>\n",
            "200\n"
          ]
        }
      ]
    }
  ]
}