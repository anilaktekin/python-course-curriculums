{
  "nbformat": 4,
  "nbformat_minor": 0,
  "metadata": {
    "colab": {
      "provenance": [],
      "authorship_tag": "ABX9TyNxIhB28tYGthKDQDVDsPsy"
    },
    "kernelspec": {
      "name": "python3",
      "display_name": "Python 3"
    },
    "language_info": {
      "name": "python"
    }
  },
  "cells": [
    {
      "cell_type": "markdown",
      "source": [
        "if/else"
      ],
      "metadata": {
        "id": "jZp6amn6RXOd"
      }
    },
    {
      "cell_type": "code",
      "source": [
        "# if yani türkçe karşılığı olarak “eğer”, kısaca bilgisayara koşul sunmanızı sağlar.\n",
        "# Belirli koşullar verip bu koşulların gerçekleşmesi ve gerçekleşmemesi durumlarında farklı sonuçlar çıkmasını sağlayabilirsiniz."
      ],
      "metadata": {
        "id": "UP2klfEURZxp"
      },
      "execution_count": null,
      "outputs": []
    },
    {
      "cell_type": "markdown",
      "source": [
        "if kullanımı"
      ],
      "metadata": {
        "id": "XmtfnEwCSA5O"
      }
    },
    {
      "cell_type": "code",
      "source": [
        "# Bir koşul ifadesi oluşturmak için aşağıdaki kodu yazmanız gerekmektedir.\n",
        "# Yazdığınız her koşulun sonunda (:) ifadesini kullanmalısınız."
      ],
      "metadata": {
        "id": "H4YPGpaZRk8g"
      },
      "execution_count": null,
      "outputs": []
    },
    {
      "cell_type": "code",
      "source": [
        "# KODUN YAZILIŞ İSKELETİ :\n",
        "\n",
        "#if buraya koşulunuzu yazınız:\n",
        "#\t\tburaya koşul gerçekleşirse ne olacağını yazınız\n",
        "\n",
        "# ÖRNEKLER :\n",
        "\n",
        "soguk = input('Dışarıda hava soğuk mu?') # Kullanıcıya havanın soğuk olup olmadığını soruyoruz.\n",
        "yagmur = input('Dışarıda hava yağmurlu mu?') # Kullanıcıya havanın yağmurlu olup olmadığını soruyoruz.\n",
        "sicak = input('Dışarıda hava sıcak mı?') # Kullanıcıya havanın sıcak olup olmadığını soruyoruz.\n",
        "\n",
        "if soguk == 'evet': # Kullanıcı eğer ilk sorumuza \"evet\" cevabını verirse bu koşulumuz gerçekleşti demektir.\n",
        "    print ('Seni ısıtacak bir bere tak') # yukarıdaki koşulumuz gerçekleştiği için ekrana istediğimiz mesaj yazdırılacaktır.\n",
        "\n",
        "if yagmur == 'evet': # Kullanıcı eğer ikinci sorumuza \"evet\" cevabını verirse bu koşulumuz gerçekleşti demektir.\n",
        "    print ('Yanına bir şemsiye al') # yukarıdaki koşulumuz gerçekleştiği için ekrana istediğimiz mesaj yazdırılacaktır.\n",
        "\n",
        "if sicak == 'evet': # Kullanıcı eğer üçüncü sorumuza \"evet\" cevabını verirse bu koşulumuz gerçekleşti demektir.\n",
        "    print('Bir şapka tak ') # yukarıdaki koşulumuz gerçekleştiği için ekrana istediğimiz mesaj yazdırılacaktır.\n",
        "\n",
        "############################\n",
        "\n",
        "# Seni ısıtacak bir bere tak -->hava soğuk mu cevabına eğer evet cevabı verilirse\n",
        "# Yanına bir şemsiye al --> Yağmurlu mu sorsuna eğer evet cevabı verilirse\n",
        "# Bir şapka tak --> sıcak mı sorusuna eğer evet cevabı verilirse"
      ],
      "metadata": {
        "id": "KlaBneogRqwr"
      },
      "execution_count": null,
      "outputs": []
    },
    {
      "cell_type": "markdown",
      "source": [
        "if ve else kullanımı"
      ],
      "metadata": {
        "id": "xkpHph_7SB7A"
      }
    },
    {
      "cell_type": "code",
      "source": [
        "# else kelimesinin anlamı “değilse\n",
        "# Yazdığınız koşul ifadesinin gerçekleşmeyeceği durumlarda \"else\" ifadesini kullanabilirsiniz."
      ],
      "metadata": {
        "id": "zFkuUEmSSDOP"
      },
      "execution_count": null,
      "outputs": []
    },
    {
      "cell_type": "code",
      "source": [
        "# KODUN YAZILIŞ İSKELETİ :\n",
        "\n",
        "# if buraya koşulunuzu yazınız:\n",
        "#\t\t buraya koşul gerçekleşirse ne olacağını yazınız\n",
        "# else:\n",
        "#\t  \tburaya koşulunuz gerçekleşmezse ne olacağını yazınız\n",
        "\n",
        "# ÖRNEKLER :\n",
        "\n",
        "cevap = int(input('Kaç yaşınızdasınız?')) # Kullanıcıya yaşını soruyoruz.\n",
        "\n",
        "if cevap >= 18: # Eğer kullanıcı 18 veya daha üstünde bir yaşta olduğunu söylerse koşulumuz gerçekleşiyor.\n",
        "    print(\"Ehliyet alabilirsiniz!\") # yukarıdaki koşulumuz gerçekleştiği için ekrana bu mesaj yazdıracaktır.\n",
        "else: # eğer kullanıcı 18 yaşın altında bir cevap verirse yani koşulumuz gerçekleşmezse\n",
        "    print(\"Henüz ehliyet alamazsınız!\") # koşulumuz gerçekleşmediği için ekrana bu mesaj yazdırılacaktır."
      ],
      "metadata": {
        "id": "2C1AWbEbSGRf"
      },
      "execution_count": null,
      "outputs": []
    },
    {
      "cell_type": "markdown",
      "source": [
        "if, else ve elif kullanımı"
      ],
      "metadata": {
        "id": "p1bxW5tVSQUR"
      }
    },
    {
      "cell_type": "code",
      "source": [
        "# if ile yazdığınız bir koşul gerçekleşmediğinde direkt olarak else ifadesine yani gerçekleşmeme durumuna geçmeden, birden fazla koşulu kontrol ettirebilirsiniz.\n",
        "# Bunu yapabilmemiz \"elif\" komutu sağlar."
      ],
      "metadata": {
        "id": "56f4ykOGSQj1"
      },
      "execution_count": null,
      "outputs": []
    },
    {
      "cell_type": "code",
      "source": [
        "# KODUN YAZILIŞ İSKELETİ :\n",
        "\n",
        "# if buraya koşulunuzu yazınız:\n",
        "#\t\tburaya koşul gerçekleşirse ne olacağını yazınız\n",
        "# elif buraya koşulunuzu yazınız:\n",
        "#\t\tburaya bu koşul gerçekleşirse ne olacağını yazınız\n",
        "# elif buraya koşulunuzu yazınız:\n",
        "#\t\tburaya bu koşul gerçekleşirse ne olacağını yazınız\n",
        "# else:\n",
        "#\t\tburaya koşulunuz gerçekleşmezse ne olacağını yazınız\n",
        "\n",
        "# ÖRNEKLER :\n",
        "\n",
        "hava = input('Dışarıda hava nasıl (sıcak, soğuk, ılık)?') # Kullanıcıya hava soğuk mu, ılık mı, yoksa sıcak mı diye soruyoruz.\n",
        "\n",
        "if hava == 'soğuk': # Eğer soğuk cevabını alırsak bu koşul gerçekleşecek.\n",
        "    print('Seni ısıtacak bir ceket giy')\n",
        "elif hava == 'ılık': # Eğer ılık cevabını alırsak bu koşul gerçekleşecek.\n",
        "    print('Dışarının zevkini çıkar!')\n",
        "elif hava == 'sıcak': # Eğer sıcak cevabını alırsak bu koşul gerçekleşecek.\n",
        "    print('Bir şapka tak!')"
      ],
      "metadata": {
        "id": "CJWPzM3fSTzD"
      },
      "execution_count": null,
      "outputs": []
    },
    {
      "cell_type": "markdown",
      "source": [
        "if içerisinde “and” kullanımı"
      ],
      "metadata": {
        "id": "TLDfg7ziSeMf"
      }
    },
    {
      "cell_type": "code",
      "source": [
        "# Bir kod bloğunun çalışması için birden fazla koşulun gerçekleşmesini istiyorsanız “and” bağlacı kullanarak birden fazla koşul sunabilirsiniz."
      ],
      "metadata": {
        "id": "F1AczWhPSgoz"
      },
      "execution_count": null,
      "outputs": []
    },
    {
      "cell_type": "code",
      "source": [
        "# KODUN YAZILIŞ İSKELETİ\n",
        "\n",
        "# if buraya koşulunuzu yazınız and buraya diğer koşulunuzu yazınız:\n",
        "# \t\tburaya koşul gerçekleşirse ne olacağını yazınız\n",
        "\n",
        "\n",
        "sihirbaz = input('Sihirbaz mısınız?') # Kullanıcıya sihirbaz olup olmadığnı soruyoruz.\n",
        "yas = int(input('Kaç yaşındasınız?')) # Kullanıcıya yaşını soruyoruz.\n",
        "\n",
        "if sihirbaz == 'evet' and yas >= 11 and yas <= 17: # Koşulun gerçekleşmesi için kullanıcının hem sihirbaz sorusuna evet cevabını vermesi hem de yaşının 11 - 17 aralığında olması gerekiyor.\n",
        "    print(\"Kabul edildiniz\") # eğer yukarıdaki iki koşulu da gerçekleştiriyorsa ekrana bu mesaj çıkacak\n",
        "else: # eğer ikisini veya ikisinden birini bile gerçekleştiremiyorsa\n",
        "    print(\"Hogwarts'ta okuyamazsınız. Bunun yerine Kodland'a gelebilirsiniz!\") # koşul gerçekleşmediği için ekrana bu mesaj çıkacak"
      ],
      "metadata": {
        "id": "w3yjfuaBSjHe"
      },
      "execution_count": null,
      "outputs": []
    },
    {
      "cell_type": "markdown",
      "source": [
        "if içerisinde “or” kullanımı"
      ],
      "metadata": {
        "id": "kb_354VASnHC"
      }
    },
    {
      "cell_type": "code",
      "source": [
        "# Bir kod bloğunun çalışması için birkaç ihtimal sunuyorsanız “or” bağlacı kullanabilirsiniz."
      ],
      "metadata": {
        "id": "5NWJHbxhSora"
      },
      "execution_count": null,
      "outputs": []
    },
    {
      "cell_type": "code",
      "source": [
        "# KODUN YAZILIŞ İSKELETİ\n",
        "\n",
        "# if buraya koşulunuzu yazınız or buraya diğer koşulunuzu yazınız:\n",
        "#\t\t buraya koşul gerçekleşirse ne olacağını yazınız\n",
        "\n",
        "\n",
        "cubuk = int(input ('Envanterde kaç tane çubuk var?')) # Kullanıcıya kaç tane çubuğu olduğunu soruyoruz.\n",
        "tahta = int(input('Envanterde kaç tane tahta var?')) # Kullanıcıya kaç tane tahtası olduğunu soruyoruz.\n",
        "\n",
        "if cubuk >= 7 or tahta >= 2: # Kullanıcının 7 tane çubuğu veya 2 tane tahtası varsa koşul gerçekleşecektir.\n",
        "    print('Merdiven yapabilirisiniz')\n",
        "else: # hem 7 tane çubuğu\n",
        "    print ('Merdiven yapamazsınız')"
      ],
      "metadata": {
        "id": "fYIfLVMnSqPB"
      },
      "execution_count": null,
      "outputs": []
    }
  ]
}